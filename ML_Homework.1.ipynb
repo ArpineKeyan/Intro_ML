{
 "cells": [
  {
   "cell_type": "markdown",
   "metadata": {},
   "source": [
    "Problem 1. \n",
    "Create the list list1, which contains some values of your choice. Get one value, using the input() function, and check how many times the given value appears in the list list1. Print the result in the following format: (in this example user input is 2, the list2 is [0, ‘hi’, 2, 100, 300, 2]) list2 = [0, ‘hi’, 2, 100, 300, 2] Number of 2s = 2"
   ]
  },
  {
   "cell_type": "code",
   "execution_count": 6,
   "metadata": {},
   "outputs": [
    {
     "name": "stdout",
     "output_type": "stream",
     "text": [
      "list1 =  [1, 7, 15, 25, 33, 57, 1, 1, 15]\n",
      "Please enter the value \n",
      "1\n",
      "Number of  1 s =  0\n",
      "Number of  1 s =  3\n"
     ]
    }
   ],
   "source": [
    "list1 = [1, 7, 15, 25, 33, 57, 1, 1, 15]\n",
    "print (\"list1 = \", list1)\n",
    "print (\"Please enter the value \")\n",
    "x = input()\n",
    "print (\"Number of \", x, \"s = \", list1.count(x))\n",
    "print (\"Number of \", x, \"s = \", list1.count(1))\n"
   ]
  },
  {
   "cell_type": "markdown",
   "metadata": {},
   "source": [
    "Problem 2. \n",
    "Create the tuple t2 containing some values of your choice. Replace the value at index 4\n",
    "by the value “hello”. Print the tuple t2 before and after the change. Note that the tuples\n",
    "are immutable i.e. cannot be modified.\n"
   ]
  },
  {
   "cell_type": "code",
   "execution_count": 1,
   "metadata": {},
   "outputs": [
    {
     "name": "stdout",
     "output_type": "stream",
     "text": [
      "('hi', 'bye', 'hello', 'goodbye')\n",
      "('hi', 'bye', 'hello', 'hello')\n"
     ]
    }
   ],
   "source": [
    "t2 = (\"hi\", \"bye\", \"hello\", \"goodbye\")\n",
    "print(t2)\n",
    "touple_into_list = list(t2)\n",
    "touple_into_list[3] = \"hello\"\n",
    "new_touple = tuple(touple_into_list)\n",
    "print(new_touple)\n"
   ]
  },
  {
   "cell_type": "markdown",
   "metadata": {},
   "source": [
    "Problem 3. \n",
    "Create the dictionary d with the following values {“name”: “Armen”, “age”: 15, “grades”:\n",
    "[10, 8, 8, 4, 6, 7] }. Write the following program:\n",
    "\n",
    "If the dictionary d doesn’t contain a key “weight” => \n",
    "\n",
    "take a number n of type int as a user input (using the function input()) \n",
    "and add the key:value pair “weight” : n to the dictionary d. \n",
    "\n",
    "\n",
    "Otherwise, if the dictionary d contains a key “weight”, print the value at the\n",
    "key “weight”.\n"
   ]
  },
  {
   "cell_type": "code",
   "execution_count": 21,
   "metadata": {},
   "outputs": [
    {
     "name": "stdout",
     "output_type": "stream",
     "text": [
      "enter the value\n",
      "15\n",
      "{'name': 'Armen', 'age': 15, 'grades': [10, 8, 8, 4, 6, 7], 'weight': '15'}\n"
     ]
    }
   ],
   "source": [
    "d = {\n",
    "    \"name\": \"Armen\", \n",
    "    \"age\": 15, \n",
    "    \"grades\":[10, 8, 8, 4, 6, 7] \n",
    "}\n",
    "if \"weight\" not in  d:\n",
    "    print (\"enter the value\")\n",
    "    d[\"weight\"] = input()\n",
    "    print (d)\n",
    "\n",
    "else:\n",
    "    print (d[\"weight\"])\n"
   ]
  },
  {
   "cell_type": "markdown",
   "metadata": {},
   "source": [
    "Problem 4. \n",
    "Create the variable correct_num = 5, create the variable guess and assign it a value of\n",
    "type int that you should get as a user input (using the function input()). Use a loop and\n",
    "repeat the following action 10 times: if the number guess guessed by the user is equal\n",
    "to correct_num, then print \"That was a good guess!\" and stop the loop, otherwise take\n",
    "another input from the user and check again.\n"
   ]
  },
  {
   "cell_type": "code",
   "execution_count": 1,
   "metadata": {},
   "outputs": [
    {
     "ename": "SyntaxError",
     "evalue": "'break' outside loop (<ipython-input-1-4bb8f3c13187>, line 10)",
     "output_type": "error",
     "traceback": [
      "\u001b[1;36m  File \u001b[1;32m\"<ipython-input-1-4bb8f3c13187>\"\u001b[1;36m, line \u001b[1;32m10\u001b[0m\n\u001b[1;31mSyntaxError\u001b[0m\u001b[1;31m:\u001b[0m 'break' outside loop\n"
     ]
    }
   ],
   "source": [
    "correct_num = 5\n",
    "i = 1\n",
    "for i in range (1, 10):\n",
    "    guess = input()\n",
    "if  guess == correct_num:\n",
    "    print (\"That was a good guess!\")\n",
    "    break\n",
    "else:\n",
    "    i+=1"
   ]
  },
  {
   "cell_type": "markdown",
   "metadata": {},
   "source": [
    "Problem 5. \n",
    "Create the list list1 with the following values ['a', 'abc', 'xyz', 's', 'aba', '1221']։ Count how\n",
    "many items from the list list1 are at least of length 2 and have the same first and last\n",
    "characters (i.e. ‘ala’,’sbhcues’, etc.). Print the result. Use list comprehension."
   ]
  },
  {
   "cell_type": "code",
   "execution_count": null,
   "metadata": {},
   "outputs": [],
   "source": []
  },
  {
   "cell_type": "code",
   "execution_count": null,
   "metadata": {},
   "outputs": [],
   "source": []
  }
 ],
 "metadata": {
  "kernelspec": {
   "display_name": "Python 3",
   "language": "python",
   "name": "python3"
  },
  "language_info": {
   "codemirror_mode": {
    "name": "ipython",
    "version": 3
   },
   "file_extension": ".py",
   "mimetype": "text/x-python",
   "name": "python",
   "nbconvert_exporter": "python",
   "pygments_lexer": "ipython3",
   "version": "3.7.6"
  }
 },
 "nbformat": 4,
 "nbformat_minor": 4
}
