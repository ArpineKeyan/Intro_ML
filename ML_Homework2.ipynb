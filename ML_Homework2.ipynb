{
 "cells": [
  {
   "cell_type": "markdown",
   "metadata": {},
   "source": [
    "Problem 1. \n",
    "Create the function my_max which gets an undefined number of non-keyword\n",
    "arguments and returns the maximum of those. In case the function is called without\n",
    "arguments, it should return the text “no numbers given”. Don’t use the in-built functions\n",
    "for calculating the maximum value.\n"
   ]
  },
  {
   "cell_type": "code",
   "execution_count": null,
   "metadata": {},
   "outputs": [],
   "source": [
    "def my_max(*args, dtype = int):\n",
    "    list1 = []\n",
    "    for i in args:\n",
    "        list1.append(i)\n",
    "        return list1\n",
    "    if(len(list1)==0):\n",
    "        print(\"no numbers given\")\n",
    "    max_item = list1[0]  \n",
    "    for j in range(1, len(list1)):\n",
    "        if list1[j]>max_item:\n",
    "            max_item = list1[j]\n",
    "        return max_item\n",
    "            \n",
    "\n",
    "   "
   ]
  },
  {
   "cell_type": "code",
   "execution_count": null,
   "metadata": {},
   "outputs": [],
   "source": [
    "my_max((1, 5, 7))\n"
   ]
  },
  {
   "cell_type": "code",
   "execution_count": null,
   "metadata": {},
   "outputs": [],
   "source": [
    "def add_items(new_items, base_items=[]):\n",
    "    for item in new_items:\n",
    "        base_items.append(item)\n",
    "    return base_items"
   ]
  },
  {
   "cell_type": "code",
   "execution_count": null,
   "metadata": {},
   "outputs": [],
   "source": [
    "add_items((1, 2, 3))\n"
   ]
  },
  {
   "cell_type": "markdown",
   "metadata": {},
   "source": [
    "Problem 2. \n",
    "Create a function that gets a list as an argument and returns a new list, which contains\n",
    "only the unique values from the original list.\n"
   ]
  },
  {
   "cell_type": "code",
   "execution_count": null,
   "metadata": {},
   "outputs": [],
   "source": [
    "def unique(list1): \n",
    "    unique_list = [] \n",
    "    for x in list1: \n",
    "        if x not in unique_list: \n",
    "            unique_list.append(x) \n",
    "    print(unique_list)"
   ]
  },
  {
   "cell_type": "code",
   "execution_count": null,
   "metadata": {},
   "outputs": [],
   "source": [
    "list1 = [10, 20, 10, 30, 40, 40] \n",
    "print(\"the list\") \n",
    "print(list1)\n",
    "print(\"\\n\")\n",
    "print(\"the unique values from the original list are\") \n",
    "unique(list1) "
   ]
  },
  {
   "cell_type": "markdown",
   "metadata": {},
   "source": [
    "Problem 3.\n",
    "Create a function my_fib which takes an integer n as an argument and calculates and\n",
    "returns the n-th fibonacci number. Don’t use recursion.\n",
    "Note: fib(n) = fib(n-1) + fib(n-2)\n"
   ]
  },
  {
   "cell_type": "code",
   "execution_count": null,
   "metadata": {},
   "outputs": [],
   "source": [
    "#fib(n) = fib(n-1) + fib(n-2)\n",
    "#fib(0) = 0 fib(1) = 1\n",
    "\n",
    "def my_fib(n): \n",
    "    a = 0\n",
    "    b = 1\n",
    "    if n < 0: \n",
    "        print(\"Input a positive number\") \n",
    "    elif n == 0: \n",
    "        return a \n",
    "    elif n == 1: \n",
    "        return b \n",
    "    else: \n",
    "        for i in range(2,n+1): \n",
    "            c = a + b \n",
    "            a = b \n",
    "            b = c \n",
    "        return b \n"
   ]
  },
  {
   "cell_type": "code",
   "execution_count": null,
   "metadata": {},
   "outputs": [],
   "source": [
    "print(my_fib(3)) "
   ]
  },
  {
   "cell_type": "markdown",
   "metadata": {},
   "source": [
    "Problem 4. \n",
    "Create the class Person.\n",
    "\n",
    "Attributes: name, last_name, age, gender, student (this is a boolean attribute i.e.it\n",
    "takes values True/False), as well as a private attribute password\n",
    "\n",
    "Methods:\n",
    "Greeting(self, second_person) - gets an object of type Person as an input and prints\n",
    "“Welcome dear X.”, where X is the value of the name attribute of second_person.\n",
    "\n",
    "Goodbye(self) - prints “Bye everyone!”\n",
    "\n",
    "Favourite_num(self, num1) - gets an integer num1 as an input and returns the text “My\n",
    "favourite number is num1”, using the value of the attribute num1.\n",
    "\n",
    "Read_file(self, filename) - gets a String filename as an input and tries to read the file\n",
    "with the name “filename.txt”, adding “.txt” at the end of the value of the attribute\n",
    "filename. Use the function open() to open the file. (try to do this on your own :))\n",
    "\n",
    "Add set and get methods for the attribute password.\n"
   ]
  },
  {
   "cell_type": "code",
   "execution_count": null,
   "metadata": {},
   "outputs": [],
   "source": [
    "class Person:\n",
    "    def __init__(self, name, last_name, age, gender, student, password):\n",
    "        self.name = name\n",
    "        self.last_name = last_name\n",
    "        self.age = age\n",
    "        self.gender = gender\n",
    "        self.student = student\n",
    "        self.__password = password\n",
    "        \n",
    "    def Greeting(self, second_person):\n",
    "        print(\"Welcome dear \",second_person.name)\n",
    "    \n",
    "    def Goodbye(self):\n",
    "        print(\"Bye everyone!\")\n",
    "    \n",
    "    def Favourite_num(self, num1):\n",
    "        print (\"my favourite number is \" , int(num1))\n",
    "    \n",
    "    def Read_file(self, filename):\n",
    "        filename_txt = filename + \".txt\"\n",
    "        open(filename_txt)\n",
    "        \n",
    "    def get_pass(self):\n",
    "        return self.__password\n",
    "    \n",
    "    def set_pass(self, password1):\n",
    "        return self.__password1\n",
    "        \n",
    "    "
   ]
  },
  {
   "cell_type": "code",
   "execution_count": null,
   "metadata": {},
   "outputs": [],
   "source": [
    "person1 = Person(\"John\", \"Smith\", 35, \"Male\", False, \"secret1\")\n",
    "person2 = Person(\"James\", \"Green\", 17, \"Male\", True, \"secret2\")\n",
    "person1.Goodbye()\n",
    "person1.Favourite_num(3)\n",
    "person2.get_pass()\n",
    "person1.set_pass(\"new_secret1\")\n",
    "print(person1._Person__code)"
   ]
  },
  {
   "cell_type": "markdown",
   "metadata": {},
   "source": [
    "Problem 5.\n",
    "Create a class Calculation.\n",
    "\n",
    "Attributes: x, y\n",
    "\n",
    "Methods: __init__(self, x, y) -> creates the attributes x and y\n",
    "addition(self) -> prints the sum of the arguments x and y\n",
    "subtraction(self) -> prints the difference of the arguments x and y\n",
    "\n",
    "\n",
    "\n",
    "Create a class MyCalculation which inherits from the class Calculation.\n",
    "\n",
    "Attributes: x, y\n",
    "\n",
    "Methods: __init__(self, x, y) -> calls the __init__ method of the Calculation class with\n",
    "parameters x and y\n",
    "multiplication(self) -> prints the product of the arguments x and y\n",
    "division(self) -> prints the quotient of the arguments x and y\n",
    "\n",
    "\n",
    "Create an object of the MyCalculation class with attribute values 3 and 5 and call the\n",
    "methods addition, subtraction, multiplication and division on it."
   ]
  },
  {
   "cell_type": "code",
   "execution_count": null,
   "metadata": {},
   "outputs": [],
   "source": [
    "class Calculation:\n",
    "    def __init__(self, x, y):\n",
    "        self.x = x\n",
    "        self.y = y\n",
    "               \n",
    "    def addition(self):\n",
    "        print( self.x + self.y)\n",
    "        \n",
    "    def substraction(self):\n",
    "        print( self.x - self.y)  \n",
    "        \n",
    "class MyCalculation (Calculation):\n",
    "    def __init__(self, x, y):\n",
    "        x.__init__(self,x)\n",
    "        y.__init__(self,y)\n",
    "        \n",
    "    def multiplication(self):\n",
    "        print( self.x * self.y)\n",
    "        \n",
    "    def division(self):\n",
    "        print( self.x / self.y)     "
   ]
  },
  {
   "cell_type": "code",
   "execution_count": null,
   "metadata": {},
   "outputs": [],
   "source": [
    "calc = MyCalculation (3,5)\n",
    "calc.addition()"
   ]
  },
  {
   "cell_type": "code",
   "execution_count": null,
   "metadata": {},
   "outputs": [],
   "source": []
  }
 ],
 "metadata": {
  "kernelspec": {
   "display_name": "Python 3",
   "language": "python",
   "name": "python3"
  },
  "language_info": {
   "codemirror_mode": {
    "name": "ipython",
    "version": 3
   },
   "file_extension": ".py",
   "mimetype": "text/x-python",
   "name": "python",
   "nbconvert_exporter": "python",
   "pygments_lexer": "ipython3",
   "version": "3.7.6"
  }
 },
 "nbformat": 4,
 "nbformat_minor": 4
}
