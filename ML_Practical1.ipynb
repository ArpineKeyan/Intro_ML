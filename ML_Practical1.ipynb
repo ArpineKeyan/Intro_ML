{
 "cells": [
  {
   "cell_type": "markdown",
   "metadata": {},
   "source": [
    "Problem 1. \n",
    "Create the list list1, which contains the values [“hello”, 1, True]. Get some values from\n",
    "the user, using the input() function, and add those values to list1։ Print list1 before and\n",
    "after adding the values.\n"
   ]
  },
  {
   "cell_type": "code",
   "execution_count": 4,
   "metadata": {},
   "outputs": [
    {
     "name": "stdout",
     "output_type": "stream",
     "text": [
      "Please input values\n",
      "3\n",
      "Original List :  ['hello', 1, True]\n",
      "Final List :  ['hello', 1, True, '3']\n"
     ]
    }
   ],
   "source": [
    "list1 = [\"hello\", 1, True]\n",
    "print (\"Please input values\")\n",
    "x = input()\n",
    "print (\"Original List : \" , list1)\n",
    "list1.append(x)\n",
    "print (\"Final List : \" , list1)"
   ]
  },
  {
   "cell_type": "markdown",
   "metadata": {},
   "source": [
    "Problem 2. \n",
    "Create the list list2, which contains some values of your choice. Delete the values at\n",
    "indexes 0, 4 and 5 from the list. Print the list list2 before and after the change."
   ]
  },
  {
   "cell_type": "code",
   "execution_count": 5,
   "metadata": {},
   "outputs": [
    {
     "name": "stdout",
     "output_type": "stream",
     "text": [
      "Original List :  ['hello', 'hi', 1, True, False, 3, 5]\n",
      "Final List :  ['hello', 'hi', 1, True, 3]\n"
     ]
    }
   ],
   "source": [
    "list2 =[\"hello\", \"hi\", 1, True, False, 3, 5]\n",
    "print (\"Original List : \" , list2)\n",
    "del_index = {0, 4, 5} \n",
    "list2 = [elm for elm in list2 if elm not in del_index] \n",
    "print (\"Final List : \" , list2)\n"
   ]
  },
  {
   "cell_type": "markdown",
   "metadata": {},
   "source": [
    "Problem 3. \n",
    "Create the set set3 containing the values of type int of your choice. Get one value, using\n",
    "the input() function, and check if the value is between the minimum and maximum values\n",
    "of the set set3 (min<value<max). Print True (it is) or False (it is not) accordingly.\n"
   ]
  },
  {
   "cell_type": "code",
   "execution_count": 14,
   "metadata": {},
   "outputs": [
    {
     "name": "stdout",
     "output_type": "stream",
     "text": [
      "Please input one value\n",
      "5\n"
     ]
    },
    {
     "ename": "TypeError",
     "evalue": "'<' not supported between instances of 'int' and 'str'",
     "output_type": "error",
     "traceback": [
      "\u001b[1;31m---------------------------------------------------------------------------\u001b[0m",
      "\u001b[1;31mTypeError\u001b[0m                                 Traceback (most recent call last)",
      "\u001b[1;32m<ipython-input-14-3edfa44a13a2>\u001b[0m in \u001b[0;36m<module>\u001b[1;34m\u001b[0m\n\u001b[0;32m      2\u001b[0m \u001b[0mprint\u001b[0m \u001b[1;33m(\u001b[0m\u001b[1;34m\"Please input one value\"\u001b[0m\u001b[1;33m)\u001b[0m\u001b[1;33m\u001b[0m\u001b[1;33m\u001b[0m\u001b[0m\n\u001b[0;32m      3\u001b[0m \u001b[0mx\u001b[0m \u001b[1;33m=\u001b[0m \u001b[0minput\u001b[0m\u001b[1;33m(\u001b[0m\u001b[1;33m)\u001b[0m\u001b[1;33m\u001b[0m\u001b[1;33m\u001b[0m\u001b[0m\n\u001b[1;32m----> 4\u001b[1;33m \u001b[0mprint\u001b[0m\u001b[1;33m(\u001b[0m\u001b[1;34m\"TRUE\"\u001b[0m\u001b[1;33m)\u001b[0m \u001b[1;32mif\u001b[0m \u001b[0mmin\u001b[0m\u001b[1;33m(\u001b[0m\u001b[0mset3\u001b[0m\u001b[1;33m)\u001b[0m\u001b[1;33m<\u001b[0m\u001b[0mx\u001b[0m \u001b[1;32mand\u001b[0m \u001b[0mx\u001b[0m\u001b[1;33m<\u001b[0m\u001b[0mmax\u001b[0m\u001b[1;33m(\u001b[0m\u001b[0mset3\u001b[0m\u001b[1;33m)\u001b[0m \u001b[1;32melse\u001b[0m \u001b[0mprint\u001b[0m\u001b[1;33m(\u001b[0m\u001b[1;34m\"False\"\u001b[0m\u001b[1;33m)\u001b[0m\u001b[1;33m\u001b[0m\u001b[1;33m\u001b[0m\u001b[0m\n\u001b[0m\u001b[0;32m      5\u001b[0m \u001b[1;33m\u001b[0m\u001b[0m\n",
      "\u001b[1;31mTypeError\u001b[0m: '<' not supported between instances of 'int' and 'str'"
     ]
    }
   ],
   "source": [
    "set3 = {2, 11, 25, 13}\n",
    "print (\"Please input one value\")\n",
    "x = input()\n",
    "print(\"TRUE\") if min(set3)<x and x<max(set3) else print(\"False\")\n",
    "   "
   ]
  },
  {
   "cell_type": "markdown",
   "metadata": {},
   "source": [
    "Problem 4. \n",
    "Create the dictionary dict1 containing some values of your choice. Get a value key of\n",
    "type String and a value value of type String, using the input() function. Add the values as\n",
    "a key:value pair to the dictionary dict1. Print the dictionary dict1 before and after\n",
    "adding the value.\n"
   ]
  },
  {
   "cell_type": "code",
   "execution_count": 17,
   "metadata": {},
   "outputs": [
    {
     "name": "stdout",
     "output_type": "stream",
     "text": [
      "Original dictionary :  {'String': ' ', 'Value': ' '}\n",
      "Please input values for string\n",
      "car\n",
      "Please input values for value\n",
      "3000\n",
      "Final dictionary :  {'String': 'car', 'Value': '3000'}\n"
     ]
    }
   ],
   "source": [
    "dict1 = {\n",
    "  \"String\": \" \",\n",
    "  \"Value\": \" \" \n",
    "}\n",
    "print(\"Original dictionary : \" ,dict1)\n",
    "print (\"Please input values for string\")\n",
    "string = input()\n",
    "dict1[\"String\"]=string\n",
    "print (\"Please input values for value\")\n",
    "value = input()\n",
    "dict1[\"Value\"]=value\n",
    "print(\"Final dictionary : \" ,dict1)"
   ]
  },
  {
   "cell_type": "markdown",
   "metadata": {},
   "source": [
    "Problem 5. \n",
    "Create 2 variables a and b of type int with values of your choice. Check if the rectangle\n",
    "with sides a and b is a square and print rectangle or square accordingly.\n"
   ]
  },
  {
   "cell_type": "code",
   "execution_count": 18,
   "metadata": {},
   "outputs": [
    {
     "name": "stdout",
     "output_type": "stream",
     "text": [
      "Rectangle\n"
     ]
    }
   ],
   "source": [
    "a = 3\n",
    "b = 5\n",
    "print (\"Square\") if a==b else print(\"Rectangle\")\n",
    "    "
   ]
  },
  {
   "cell_type": "markdown",
   "metadata": {},
   "source": [
    "Problem 6. \n",
    "Create the variables name, age, password with values of your choice։ Write the\n",
    "following program:\n",
    "If the value of the variable name is “Batman”, print “Welcome Mr. Batman!” no matter\n",
    "what the values of the other variables are. If the value of the variable age <16, print\n",
    "“Dear X, you are too young to register”, using the value of the variable name instead of\n",
    "X; if the value of the variable password doesn’t contain either ‘*’ or “&”, print “Please\n",
    "enter a different password”.\n"
   ]
  },
  {
   "cell_type": "code",
   "execution_count": 1,
   "metadata": {},
   "outputs": [
    {
     "ename": "SyntaxError",
     "evalue": "invalid syntax (<ipython-input-1-6379d444de50>, line 10)",
     "output_type": "error",
     "traceback": [
      "\u001b[1;36m  File \u001b[1;32m\"<ipython-input-1-6379d444de50>\"\u001b[1;36m, line \u001b[1;32m10\u001b[0m\n\u001b[1;33m    sym1 = \"*\" not in password print (\"Please enter a different password\")\u001b[0m\n\u001b[1;37m                                   ^\u001b[0m\n\u001b[1;31mSyntaxError\u001b[0m\u001b[1;31m:\u001b[0m invalid syntax\n"
     ]
    }
   ],
   "source": [
    "name = \"Ani\" \n",
    "age = 7\n",
    "password = \"dear_03\"\n",
    "x = \"Batman\"\n",
    "if name==x:\n",
    "    print (\"Welcome Mr. Batman!\")\n",
    "elif age < 16:\n",
    "    print (\"Dear \" + name + \" you are too young to register\") \n",
    "\n",
    "    sym1 = \"*\" not in password print (\"Please enter a different password\")\n",
    "\n",
    "    sym2 = \"&\" not in password print (\"Please enter a different password\")\n",
    "    \n"
   ]
  },
  {
   "cell_type": "markdown",
   "metadata": {},
   "source": [
    "Problem 7. \n",
    "Print only the odd number 0-100, using a for or a while loop and an if/else statement"
   ]
  },
  {
   "cell_type": "code",
   "execution_count": 11,
   "metadata": {},
   "outputs": [
    {
     "name": "stdout",
     "output_type": "stream",
     "text": [
      "1\n",
      "3\n",
      "5\n",
      "7\n",
      "9\n",
      "11\n",
      "13\n",
      "15\n",
      "17\n",
      "19\n",
      "21\n",
      "23\n",
      "25\n",
      "27\n",
      "29\n",
      "31\n",
      "33\n",
      "35\n",
      "37\n",
      "39\n",
      "41\n",
      "43\n",
      "45\n",
      "47\n",
      "49\n",
      "51\n",
      "53\n",
      "55\n",
      "57\n",
      "59\n",
      "61\n",
      "63\n",
      "65\n",
      "67\n",
      "69\n",
      "71\n",
      "73\n",
      "75\n",
      "77\n",
      "79\n",
      "81\n",
      "83\n",
      "85\n",
      "87\n",
      "89\n",
      "91\n",
      "93\n",
      "95\n",
      "97\n",
      "99\n"
     ]
    }
   ],
   "source": [
    "for number in range(0, 100):\n",
    "    if(number % 2 != 0):\n",
    "        print(number)"
   ]
  },
  {
   "cell_type": "markdown",
   "metadata": {},
   "source": [
    "Problem 8. \n",
    "Go over the numbers 1-20 in a loop, stop the loop (break) once you reach a number that\n",
    "is a multiple of both 3 and 5.\n"
   ]
  },
  {
   "cell_type": "code",
   "execution_count": 13,
   "metadata": {},
   "outputs": [],
   "source": [
    "for number in range(1, 20):\n",
    "    if(number % 3 == 0 and number % 5 == 0):\n",
    "        break"
   ]
  },
  {
   "cell_type": "markdown",
   "metadata": {},
   "source": [
    "Problem 9. \n",
    "Create the list list1 with the values of type int of your choice. Create the list list2, which\n",
    "should contain all the values from list list1 which are larger than 20։ Print both of the\n",
    "lists. Use list comprehension.\n"
   ]
  },
  {
   "cell_type": "code",
   "execution_count": 25,
   "metadata": {},
   "outputs": [
    {
     "ename": "IndentationError",
     "evalue": "expected an indented block (<ipython-input-25-62e506ad5d4e>, line 5)",
     "output_type": "error",
     "traceback": [
      "\u001b[1;36m  File \u001b[1;32m\"<ipython-input-25-62e506ad5d4e>\"\u001b[1;36m, line \u001b[1;32m5\u001b[0m\n\u001b[1;33m    if list1[i]>20:\u001b[0m\n\u001b[1;37m     ^\u001b[0m\n\u001b[1;31mIndentationError\u001b[0m\u001b[1;31m:\u001b[0m expected an indented block\n"
     ]
    }
   ],
   "source": [
    "list1 = [1, 3, 13, 17, 21]\n",
    "print(list1)\n",
    "list2 = []\n",
    "i=0\n",
    "j=0\n",
    "for i in range (0, len(list1)): \n",
    "if list1[i]>20:\n",
    "    list2.insert(j, list1[i])\n",
    "else:\n",
    "    i+=1\n",
    "    j+=1\n",
    "print(list2)\n"
   ]
  },
  {
   "cell_type": "code",
   "execution_count": null,
   "metadata": {},
   "outputs": [],
   "source": []
  },
  {
   "cell_type": "code",
   "execution_count": null,
   "metadata": {},
   "outputs": [],
   "source": []
  }
 ],
 "metadata": {
  "kernelspec": {
   "display_name": "Python 3",
   "language": "python",
   "name": "python3"
  },
  "language_info": {
   "codemirror_mode": {
    "name": "ipython",
    "version": 3
   },
   "file_extension": ".py",
   "mimetype": "text/x-python",
   "name": "python",
   "nbconvert_exporter": "python",
   "pygments_lexer": "ipython3",
   "version": "3.7.6"
  }
 },
 "nbformat": 4,
 "nbformat_minor": 4
}
