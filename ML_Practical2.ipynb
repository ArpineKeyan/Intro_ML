{
 "cells": [
  {
   "cell_type": "markdown",
   "metadata": {},
   "source": [
    "Problem 1. \n",
    "Create a function that takes 3 integers as arguments and returns their average value."
   ]
  },
  {
   "cell_type": "code",
   "execution_count": null,
   "metadata": {},
   "outputs": [],
   "source": [
    "def func_average(a, b, c):\n",
    "    mean = ((a+b+c)/3)\n",
    "    return mean\n",
    "  \n",
    "print(func_average(5,7,3))"
   ]
  },
  {
   "cell_type": "markdown",
   "metadata": {},
   "source": [
    "Problem 2. \n",
    "Create a function that takes a list of integers as an argument and returns the number of\n",
    "even values in the given list."
   ]
  },
  {
   "cell_type": "code",
   "execution_count": null,
   "metadata": {},
   "outputs": [],
   "source": [
    "my_list = [10,50,30,12,6,8,100,11]\n",
    "\n",
    "def func(list1):\n",
    "    count =0 \n",
    "    for i in range(0, len(list1)):\n",
    "        if list1[i]%2!=0:\n",
    "            print (count)\n",
    "            \n",
    "func (my_list)"
   ]
  },
  {
   "cell_type": "markdown",
   "metadata": {},
   "source": [
    "Problem 3. \n",
    "Create a function that takes one required argument name of type String and an\n",
    "undefined number of optional non-keyword arguments. The function should calculate the\n",
    "average value of the optional arguments (if at least one optional argument is given) and\n",
    "print the following: if at least one optional argument is given print “X, your average grade\n",
    "is: Y”, where X is the value of the argument name and Y is the average value of the\n",
    "optional arguments. Otherwise, print “No grades available for X”, where X is the value of\n",
    "the argument name."
   ]
  },
  {
   "cell_type": "code",
   "execution_count": 5,
   "metadata": {},
   "outputs": [
    {
     "name": "stdout",
     "output_type": "stream",
     "text": [
      "Ann  your average grade is:  28.375\n",
      "No grades available for Mary\n"
     ]
    }
   ],
   "source": [
    "def func (arg1, *arg2):\n",
    "    if len(arg2)!=0:\n",
    "        average = sum(arg2)/len(arg2)\n",
    "             \n",
    "        print (arg1, \" your average grade is: \", average)\n",
    "        \n",
    "    else:\n",
    "        print(\"No grades available for \" + arg1) \n",
    "        \n",
    "func(\"Ann\",10,50,30,12,6,8,100,11)\n",
    "func(\"Mary\")"
   ]
  },
  {
   "cell_type": "markdown",
   "metadata": {},
   "source": [
    "Problem 4. \n",
    "Create the class Circle with attributes radius and color. Inside your class, create the\n",
    "method getDesc(self) which should print the text “A color circle with radius radius.”,\n",
    "using the values of the corresponding attributes.\n",
    "Create class object(s) and test your class.\n"
   ]
  },
  {
   "cell_type": "code",
   "execution_count": 17,
   "metadata": {},
   "outputs": [
    {
     "name": "stdout",
     "output_type": "stream",
     "text": [
      "A  green circle with radius 3\n"
     ]
    }
   ],
   "source": [
    "class Circle():\n",
    "    def __init__(self, r, c):\n",
    "        self.radius = r\n",
    "        self.color = c\n",
    "        \n",
    "    def getDesc(self):\n",
    "        print(\"A \", self.color, \"circle with radius\",self.radius)\n",
    "    \n",
    "new_circle = Circle(3, \"green\")\n",
    "\n",
    "new_circle.getDesc()\n",
    "        \n",
    "    "
   ]
  },
  {
   "cell_type": "markdown",
   "metadata": {},
   "source": [
    "Problem 5. \n",
    "Create the class Employee, which has the following attributes: name, last_name and a\n",
    "private attribute monthly_salary. Inside your class, create the method\n",
    "getFullName(self), which will return “name last_name”, using the values of the\n",
    "corresponding attributes. Create the method annualSalary(self), which will calculate the\n",
    "annual salary of the employee, using the values of the corresponding attributes and will\n",
    "return “High” in case the salary is >100 and “Low”, otherwise.\n",
    "Create class object(s) and test your class.\n"
   ]
  },
  {
   "cell_type": "code",
   "execution_count": 38,
   "metadata": {},
   "outputs": [
    {
     "name": "stdout",
     "output_type": "stream",
     "text": [
      "Employee's name: John\n",
      "Employee's last_name: Smith\n",
      "Employee's salary is High\n"
     ]
    }
   ],
   "source": [
    "class Employee():\n",
    "    def __init__(self, n, l_n, m_s):\n",
    "        self.name = n\n",
    "        self.last_name = l_n\n",
    "        self.monthly_salary = m_s\n",
    "    \n",
    "    def getFullName(self):\n",
    "        return \"Employee's name: \" + self.name + \"\\n\" +\"Employee's last_name: \" + self.last_name\n",
    "        \n",
    "    def annualSalary(self):\n",
    "        annual_salary = 12*self.monthly_salary\n",
    "        if (annual_salary > 100):\n",
    "            return \"High\"\n",
    "        else:\n",
    "            return \"Low\"\n",
    "    \n",
    "employee_1 = Employee(\"John\", \"Smith\", 300)\n",
    "\n",
    "print(employee_1.getFullName())\n",
    "\n",
    "print(\"Employee's salary is\", employee_1.annualSalary()) \n",
    "        "
   ]
  },
  {
   "cell_type": "markdown",
   "metadata": {},
   "source": [
    "Problem 6. \n",
    "Create the class Car with the following attributes: model, color and max_speed. Inside\n",
    "the class, create the method compareCar(self, car2) which gets an object of type Car\n",
    "as an argument and returns the text “car1 is better than car2” if the maxSpeed attribute\n",
    "of your car is larger than the maxSpeed attribute of car2 and returns the text “car2 is\n",
    "better than car1”՝ otherwise.\n",
    "Create class object(s) and test your class.\n"
   ]
  },
  {
   "cell_type": "code",
   "execution_count": 59,
   "metadata": {},
   "outputs": [
    {
     "ename": "SyntaxError",
     "evalue": "invalid syntax (<ipython-input-59-78f1ab2451cf>, line 2)",
     "output_type": "error",
     "traceback": [
      "\u001b[1;36m  File \u001b[1;32m\"<ipython-input-59-78f1ab2451cf>\"\u001b[1;36m, line \u001b[1;32m2\u001b[0m\n\u001b[1;33m    def __init__(self,Mercedes,Black,380):\u001b[0m\n\u001b[1;37m                                       ^\u001b[0m\n\u001b[1;31mSyntaxError\u001b[0m\u001b[1;31m:\u001b[0m invalid syntax\n"
     ]
    }
   ],
   "source": [
    "class Car():\n",
    "    def __init__(self,Mercedes,Black,380):\n",
    "        init.model = Mercedes\n",
    "        init.color = Black\n",
    "        init.max_speed = 380\n",
    "        \n",
    "    def compare (self, car2):\n",
    "        if (self.max_speed > car2.max_speed):\n",
    "            return \"car1 is better than car2\"\n",
    "        else:\n",
    "            return \"car2 is better than car1\"\n",
    "        \n",
    "new_car = Car(\"BMW\", \"White\", 360)\n",
    "\n",
    "print (compare(new_car))"
   ]
  },
  {
   "cell_type": "markdown",
   "metadata": {},
   "source": [
    "Problem 7. \n",
    "Create the class Animal.\n",
    "Attributes: name\n",
    "Methods: __init__(self, name) -> creates the attribute name\n",
    "move(self) -> prints “I can move”\n",
    "Create the class Dog which inherits from the class Animal.\n",
    "Attributes: -\n",
    "Methods: __init__(self) -> calls the __init__ method of the Animal with a value “Dog”\n",
    "Create an object of class Dog and call the method move() from the object.\n",
    "Now, add a method move(), which prints “I can run really fast”.\n",
    "Create an object of class Dog and call the method move() from the object.\n"
   ]
  },
  {
   "cell_type": "code",
   "execution_count": null,
   "metadata": {},
   "outputs": [],
   "source": [
    "class Animal():\n",
    "    def __init__(self, name)\n",
    "    self.name = name\n",
    "    \n",
    "    def move(self):\n",
    "        print (\"I can move\")\n",
    "\n",
    "\n",
    "        \n",
    "        \n",
    "    \n",
    "    \n",
    "    "
   ]
  },
  {
   "cell_type": "code",
   "execution_count": null,
   "metadata": {},
   "outputs": [],
   "source": []
  },
  {
   "cell_type": "code",
   "execution_count": null,
   "metadata": {},
   "outputs": [],
   "source": []
  }
 ],
 "metadata": {
  "kernelspec": {
   "display_name": "Python 3",
   "language": "python",
   "name": "python3"
  },
  "language_info": {
   "codemirror_mode": {
    "name": "ipython",
    "version": 3
   },
   "file_extension": ".py",
   "mimetype": "text/x-python",
   "name": "python",
   "nbconvert_exporter": "python",
   "pygments_lexer": "ipython3",
   "version": "3.7.6"
  }
 },
 "nbformat": 4,
 "nbformat_minor": 4
}
