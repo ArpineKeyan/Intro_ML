{
 "cells": [
  {
   "cell_type": "markdown",
   "metadata": {},
   "source": [
    "#### 1. Create a 3x5 numpy array filled with random numbers from 1 to 10.\n",
    "\n",
    "#### 1. Ստեղծեք 1-ից 10 պատահական թվերով լցված (3, 5) չափերով numpy array։"
   ]
  },
  {
   "cell_type": "code",
   "execution_count": 2,
   "metadata": {},
   "outputs": [
    {
     "name": "stdout",
     "output_type": "stream",
     "text": [
      "[[4 2 9 9 3]\n",
      " [4 7 3 7 4]\n",
      " [9 5 2 5 7]]\n"
     ]
    }
   ],
   "source": [
    "import numpy as np\n",
    "a = np.random.randint(1, 10, (3,5))\n",
    "print (a)"
   ]
  },
  {
   "cell_type": "markdown",
   "metadata": {},
   "source": [
    "#### 2. Create a numpy array of size 10 filled with 0s and replace its 5th value with a 3.\n",
    "\n",
    "#### 2. Ստեղծեք 10 չափի 0-ներով լցված numpy array ու փոխարինեք դրա 5-րդ արժեքը 3 թվով։"
   ]
  },
  {
   "cell_type": "code",
   "execution_count": 4,
   "metadata": {},
   "outputs": [
    {
     "name": "stdout",
     "output_type": "stream",
     "text": [
      "[0 0 0 0 0 0 0 0 0 0]\n",
      "[0 0 0 0 0 3 0 0 0 0]\n"
     ]
    }
   ],
   "source": [
    "a = np.zeros (10, dtype = np.int)\n",
    "print (a)\n",
    "a[5] = 3\n",
    "print (a)"
   ]
  },
  {
   "cell_type": "markdown",
   "metadata": {},
   "source": [
    "#### 3. Create a numpy array filled with numbers from 3 to 15 i.e. ([3, 4 … 13, 14])\n",
    "\n",
    "#### 3. Ստեղծեք 3-ից 15 թվերից բաղկացած numpy array ([3, 4 … 13, 14])"
   ]
  },
  {
   "cell_type": "code",
   "execution_count": 6,
   "metadata": {},
   "outputs": [
    {
     "name": "stdout",
     "output_type": "stream",
     "text": [
      "[ 3  4  5  6  7  8  9 10 11 12 13 14]\n"
     ]
    }
   ],
   "source": [
    "a = np.arange(3,15)\n",
    "print(a)"
   ]
  },
  {
   "cell_type": "markdown",
   "metadata": {},
   "source": [
    "#### 4. Reshape a numpy array of size 6x0 [1, 3, 5, 2, 4, 5] into an array of size 3x2 and then 2x3 without changing the original numpy array.  \n",
    "\n",
    "#### 4. Վերածեք 6x0 [1, 3, 5, 2, 4, 5] numpy array-ը սկզբում 3x2 այնուհետև 2x3 numpy array-ների առանց սկզբնական numpy array-ը փոփոխելու։"
   ]
  },
  {
   "cell_type": "code",
   "execution_count": 77,
   "metadata": {},
   "outputs": [
    {
     "name": "stdout",
     "output_type": "stream",
     "text": [
      "[1 3 5 2 4 5]\n",
      "\n",
      "\n",
      "[[1 3]\n",
      " [5 2]\n",
      " [4 5]]\n",
      "\n",
      "\n",
      "[[1 3 5]\n",
      " [2 4 5]]\n"
     ]
    }
   ],
   "source": [
    "a = np.array([1, 3, 5, 2, 4, 5])\n",
    "print (a)\n",
    "print(\"\\n\")\n",
    "b = a.reshape (3, 2)\n",
    "print (b)\n",
    "print(\"\\n\")\n",
    "c= a.reshape(2,3)\n",
    "print(c)"
   ]
  },
  {
   "cell_type": "markdown",
   "metadata": {},
   "source": [
    "5. Write a function which gets a numpy array as an input and divides all of the array values by 2 over and over again, until the mean of the array numbers is <=5. Then, once the mean of the array numbers is <=5, the funtion returns the modified numpy array. \n",
    "\n",
    " 5. Գրեք ֆունկցիա, որը ստանում է numpy array ու բաժանում է դրա բոլոր արժեքները 2-ի այնքան ժամանակ մինչև որ դրանց միջին արժեքը լինի <=5։ Այնուհետև, հենց միջին արժեքը դառնում է <=5, ֆունկցիան վերադարձնում է փոփոխված numpy array-ը։"
   ]
  },
  {
   "cell_type": "code",
   "execution_count": 97,
   "metadata": {},
   "outputs": [
    {
     "ename": "IndentationError",
     "evalue": "expected an indented block (<ipython-input-97-62e9ecb36d1a>, line 8)",
     "output_type": "error",
     "traceback": [
      "\u001b[1;36m  File \u001b[1;32m\"<ipython-input-97-62e9ecb36d1a>\"\u001b[1;36m, line \u001b[1;32m8\u001b[0m\n\u001b[1;33m    a2.append(i/2)\u001b[0m\n\u001b[1;37m     ^\u001b[0m\n\u001b[1;31mIndentationError\u001b[0m\u001b[1;31m:\u001b[0m expected an indented block\n"
     ]
    }
   ],
   "source": [
    "a = np.array([1,5,36,66,84], dtype = np.int)\n",
    "print((a))\n",
    "print (a.mean())\n",
    "a2=[]\n",
    "new_mean = a.mean()\n",
    "while new_mean <=5:\n",
    "    for i in a: \n",
    "    a2.append(i/2)\n",
    "    mean = a2.mean()\n",
    "    break\n",
    "print(a2)\n",
    "    "
   ]
  },
  {
   "cell_type": "markdown",
   "metadata": {},
   "source": [
    "#### 6. Write a function which gets a 5x4 numpy array filled with random numbers from 1 to 10 as an input and returns 4 different numpy arrays which are the columns of the original numpy array. Write another similar function which returns 5 different numpy arrays which are rows of the original numpy array. \n",
    "\n",
    "#### 6. Գրեք ֆունկցիա, որը ստանում է 1-ից 10 պատահական թվերով լցված 5x4 numpy array ու վերադարձնում է 4 տարբեր numpy array-ներ, որոնք սկզբնական numpy array-ի սյուներն են։ Գրեք նմանատիպ ֆունկցիա, որը վերադարձնում է 5 տարբեր numpy array-ներ, որոնք սկզբնական numpy array-ի տողերն են։"
   ]
  },
  {
   "cell_type": "code",
   "execution_count": 53,
   "metadata": {},
   "outputs": [
    {
     "name": "stdout",
     "output_type": "stream",
     "text": [
      "[[5 4 2 2]\n",
      " [5 3 4 6]\n",
      " [2 4 8 5]\n",
      " [1 5 6 9]\n",
      " [2 7 6 5]]\n",
      "\n",
      "\n",
      "[[5]\n",
      " [5]\n",
      " [2]\n",
      " [1]\n",
      " [2]]\n",
      "\n",
      "\n",
      "[[4]\n",
      " [3]\n",
      " [4]\n",
      " [5]\n",
      " [7]]\n",
      "\n",
      "\n",
      "[[2]\n",
      " [4]\n",
      " [8]\n",
      " [6]\n",
      " [6]]\n",
      "\n",
      "\n",
      "[[5 4 2 2]]\n",
      "\n",
      "\n",
      "[[5 3 4 6]]\n",
      "\n",
      "\n",
      "[[2 4 8 5]]\n",
      "\n",
      "\n",
      "[[1 5 6 9]]\n",
      "\n",
      "\n",
      "[[2 7 6 5]]\n",
      "\n",
      "\n"
     ]
    }
   ],
   "source": [
    "a = np.random.randint(1,10,(5,4))\n",
    "print (a)\n",
    "print('\\n')\n",
    "for i in range(0, 3):\n",
    "    print(a[...,[i]])\n",
    "    print('\\n')\n",
    "    \n",
    "for i in range(0, len(a)):\n",
    "    print(a[[i], ])\n",
    "    print('\\n')"
   ]
  },
  {
   "cell_type": "markdown",
   "metadata": {},
   "source": [
    "#### 7. Multiply a 5x3 numpy array by a 1x3 numpy array containing random integer values with some fixed seed. \n",
    "\n",
    "#### 7. Ստեղծեք 5x3 ու 1x3 չափանի numpy array-ներ որոնք պարունակում են պատահական integer տիպի արժեքներ ֆիքսված seed-ով։ Գտեք առաջին և երկրորդ  array-ների արտադրյալը։ "
   ]
  },
  {
   "cell_type": "code",
   "execution_count": 88,
   "metadata": {},
   "outputs": [
    {
     "name": "stdout",
     "output_type": "stream",
     "text": [
      "[[8 8 6]\n",
      " [2 8 7]\n",
      " [2 1 5]\n",
      " [4 4 5]\n",
      " [7 3 6]]\n",
      "\n",
      "\n",
      "[[4 3 7]]\n",
      "\n",
      "\n"
     ]
    }
   ],
   "source": [
    "np.random.seed(2)\n",
    "a = np.random.randint(10, size = (5, 3), dtype = np.int)\n",
    "print(a)\n",
    "print(\"\\n\")\n",
    "b = np.random.randint(10, size = (1, 3), dtype = np.int)\n",
    "print(b)\n",
    "print(\"\\n\")\n"
   ]
  },
  {
   "cell_type": "markdown",
   "metadata": {},
   "source": [
    "#### 8. Write a program to sort an array of integers of shape 3x3 first along the columns, the along rows and finally flatten the array so that it becomes an one dimentional array of size 9 and sort the flattened array. \n",
    "\n",
    "#### 8. Գրեք ծրագիր որը կսորտավորի ձեր ցանկացած թվերով լցված 3x3 չափանի array-ը սկզբում ըստ սյուների, հետո ըստ տողերի, ապա flatten արեք array-ը դարձնելով այն 9 արժեք պարունակող 1 չափանի array ու սորտավորեք այն։ "
   ]
  },
  {
   "cell_type": "code",
   "execution_count": 66,
   "metadata": {},
   "outputs": [
    {
     "name": "stdout",
     "output_type": "stream",
     "text": [
      "Array:\n",
      "[[6 4 6]\n",
      " [3 3 3]\n",
      " [3 4 3]]\n",
      "\n",
      "\n",
      "Sorted along columns:\n",
      "[[3 3 3]\n",
      " [3 4 3]\n",
      " [6 4 6]]\n",
      "\n",
      "\n",
      "Sorted along rows:\n",
      "[[4 6 6]\n",
      " [3 3 3]\n",
      " [3 3 4]]\n",
      "\n",
      "\n",
      "Reshaped array:\n",
      "[[6 4 6 3 3 3 3 4 3]]\n",
      "\n",
      "\n",
      "Sorted reshaped array:\n",
      "[[3 3 3 3 3 4 4 6 6]]\n"
     ]
    }
   ],
   "source": [
    "a = np.random.randint(1,10,(3,3))\n",
    "print(\"Array:\")\n",
    "print(a)\n",
    "print('\\n')\n",
    "\n",
    "    \n",
    "print (\"Sorted along columns:\") \n",
    "print (np.sort(a, axis = 0)) \n",
    "print('\\n')\n",
    "\n",
    "print (\"Sorted along rows:\") \n",
    "print (np.sort(a, axis = 1)) \n",
    "print('\\n')\n",
    "\n",
    "print (\"Reshaped array:\") \n",
    "b = a.reshape(1,9)\n",
    "print(b)\n",
    "print('\\n')\n",
    "print (\"Sorted reshaped array:\") \n",
    "print(np.sort(b))"
   ]
  },
  {
   "cell_type": "markdown",
   "metadata": {},
   "source": [
    "#### 9. Create a 7 x 7 numpy array of zeros and then \"frame\" it with a border of ones. Your result should look like this:\n",
    "\n",
    "#### 9. Ստեղծեք 7 x 7 չափանի, 0-ներով լցված numpy array։ Ավելացրեք numpy array-ին 1-երից բաղկացած “շրջանակ”։ Վերջնական արդյունքը պետք է ունենա հետևյալ տեսքը՝"
   ]
  },
  {
   "attachments": {
    "image.png": {
     "image/png": "[encoded data removed]"
    }
   },
   "cell_type": "markdown",
   "metadata": {},
   "source": [
    "![image.png](attachment:image.png)"
   ]
  },
  {
   "cell_type": "code",
   "execution_count": 76,
   "metadata": {},
   "outputs": [
    {
     "name": "stdout",
     "output_type": "stream",
     "text": [
      "Array:\n",
      "[[0 0 0 0 0 0 0]\n",
      " [0 0 0 0 0 0 0]\n",
      " [0 0 0 0 0 0 0]\n",
      " [0 0 0 0 0 0 0]\n",
      " [0 0 0 0 0 0 0]\n",
      " [0 0 0 0 0 0 0]\n",
      " [0 0 0 0 0 0 0]]\n",
      "\n",
      "\n",
      "Framed array:\n",
      "[[1 1 1 1 1 1 1]\n",
      " [1 0 0 0 0 0 1]\n",
      " [1 0 0 0 0 0 1]\n",
      " [1 0 0 0 0 0 1]\n",
      " [1 0 0 0 0 0 1]\n",
      " [1 0 0 0 0 0 1]\n",
      " [1 1 1 1 1 1 1]]\n",
      "\n",
      "\n"
     ]
    }
   ],
   "source": [
    "a = np.zeros ((7,7), dtype = np.int)\n",
    "print(\"Array:\")\n",
    "print(a)\n",
    "print('\\n')\n",
    "print(\"Framed array:\")\n",
    "a[:, 0] = 1.0\n",
    "a[:, 6] = 1.0\n",
    "a[0, :] = 1.0\n",
    "a[6, :] = 1.0\n",
    "print(a)\n",
    "print('\\n')"
   ]
  },
  {
   "cell_type": "markdown",
   "metadata": {},
   "source": [
    "#### 10. Create the following numpy arrays and calculate the dot product between a and b. Transform the second array if needed.\n",
    "\n",
    "#### Ստեղծեք հետևյալ numpy array-ները ու հաշվեք a և b array-ների dot product-ը։ Transform արեք երկրորդ array-ը եթե կա դրա կարիքը։"
   ]
  },
  {
   "cell_type": "markdown",
   "metadata": {},
   "source": [
    "$$a = \\begin{bmatrix} 1 & 3 \\\\ 3 & 13 \\\\ 0 & -1  \\end{bmatrix}$$\n",
    "\n",
    "$$b = \\begin{bmatrix} 1 & 1 \\\\ 2 & 1 \\\\ 3 & -3 \\end{bmatrix}$$"
   ]
  },
  {
   "cell_type": "code",
   "execution_count": 78,
   "metadata": {},
   "outputs": [
    {
     "name": "stdout",
     "output_type": "stream",
     "text": [
      "[[ 1  3]\n",
      " [ 3 13]\n",
      " [ 0 -1]]\n",
      "\n",
      "\n",
      "[[ 1  1]\n",
      " [ 2  1]\n",
      " [ 3 -3]]\n",
      "\n",
      "\n",
      "[[ 1  2  3]\n",
      " [ 1  1 -3]]\n",
      "\n",
      "\n",
      "[[  4   5  -6]\n",
      " [ 16  19 -30]\n",
      " [ -1  -1   3]]\n"
     ]
    }
   ],
   "source": [
    "a = np.array([[1,3], [3,13], [0,-1]])\n",
    "b = np.array ([[1,1], [2,1], [3,-3]])\n",
    "print(a)\n",
    "print(\"\\n\")\n",
    "print(b)\n",
    "print(\"\\n\")\n",
    "c= b.T\n",
    "print(c)\n",
    "print(\"\\n\")\n",
    "print(a.dot(c))"
   ]
  },
  {
   "cell_type": "code",
   "execution_count": null,
   "metadata": {},
   "outputs": [],
   "source": []
  }
 ],
 "metadata": {
  "kernelspec": {
   "display_name": "Python 3",
   "language": "python",
   "name": "python3"
  },
  "language_info": {
   "codemirror_mode": {
    "name": "ipython",
    "version": 3
   },
   "file_extension": ".py",
   "mimetype": "text/x-python",
   "name": "python",
   "nbconvert_exporter": "python",
   "pygments_lexer": "ipython3",
   "version": "3.7.6"
  }
 },
 "nbformat": 4,
 "nbformat_minor": 4
}
